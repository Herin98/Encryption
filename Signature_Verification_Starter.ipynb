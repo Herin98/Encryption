{
 "cells": [
  {
   "cell_type": "code",
   "execution_count": 1,
   "id": "def782ba",
   "metadata": {},
   "outputs": [],
   "source": [
    "from Crypto.PublicKey import RSA\n",
    "from Crypto.Signature import pkcs1_15\n",
    "from Crypto.Hash import SHA256\n",
    "from Crypto.Cipher import PKCS1_OAEP"
   ]
  },
  {
   "cell_type": "code",
   "execution_count": 2,
   "id": "5584f2dc",
   "metadata": {},
   "outputs": [],
   "source": [
    "# Generate RSA Key Pair for the recipient\n",
    "recipient_key = RSA.generate(2048)  # You can adjust the key size (e.g., 2048 bits)\n",
    "\n",
    "# Extract the private and public keys for the recipient\n",
    "recipient_private_key = recipient_key.export_key()\n",
    "recipient_public_key = recipient_key.publickey().export_key()\n",
    "\n",
    "# Save the keys to files\n",
    "with open('recipient_private_key.pem', 'wb') as f:\n",
    "    f.write(recipient_private_key)\n",
    "\n",
    "with open('recipient_public_key.pem', 'wb') as f:\n",
    "    f.write(recipient_public_key)"
   ]
  },
  {
   "cell_type": "code",
   "execution_count": 3,
   "id": "a143ba3b",
   "metadata": {},
   "outputs": [],
   "source": [
    "# Define a message for verification\n",
    "message = \"This is the message to be signed.\"\n",
    "\n",
    "# Encrypt the message with the recipient's public key\n",
    "recipient_public_key = RSA.import_key(open('recipient_public_key.pem', 'rb').read())\n",
    "cipher = PKCS1_OAEP.new(recipient_public_key)\n",
    "encrypted_message = cipher.encrypt(message.encode())\n",
    "\n",
    "# Save the encrypted message to a file\n",
    "with open('encrypted_message.bin', 'wb') as f:\n",
    "    f.write(encrypted_message)\n",
    "\n",
    "# Sign the original message with the sender's private key\n",
    "from Crypto.Signature import pkcs1_15\n",
    "from Crypto.Hash import SHA256\n",
    "\n",
    "hash_message = SHA256.new(message.encode())\n",
    "sender_private_key = RSA.import_key(open('private_key.pem', 'rb').read())\n",
    "signature = pkcs1_15.new(sender_private_key).sign(hash_message)\n",
    "\n",
    "# Save the signature to a file\n",
    "with open('signature.pem', 'wb') as f:\n",
    "    f.write(signature)"
   ]
  },
  {
   "cell_type": "code",
   "execution_count": 4,
   "id": "11d82c68",
   "metadata": {},
   "outputs": [],
   "source": [
    "# Sign the original message with the sender's private key\n",
    "hash_message = SHA256.new(message.encode())\n",
    "sender_private_key = RSA.import_key(open('private_key.pem', 'rb').read())\n",
    "signature = pkcs1_15.new(sender_private_key).sign(hash_message)\n",
    "\n",
    "# Save the signature to a file\n",
    "with open('signature.pem', 'wb') as f:\n",
    "    f.write(signature)"
   ]
  },
  {
   "cell_type": "code",
   "execution_count": 5,
   "id": "4346432b",
   "metadata": {},
   "outputs": [
    {
     "name": "stdout",
     "output_type": "stream",
     "text": [
      "Decrypted Message: This is the message to be signed.\n"
     ]
    }
   ],
   "source": [
    "# Load the recipient's private key (for decryption)\n",
    "recipient_private_key = RSA.import_key(open('recipient_private_key.pem', 'rb').read())\n",
    "\n",
    "# Load the encrypted message\n",
    "with open('encrypted_message.bin', 'rb') as f:\n",
    "    encrypted_message = f.read()\n",
    "\n",
    "# Decrypt the message with the recipient's private key\n",
    "cipher = PKCS1_OAEP.new(recipient_private_key)\n",
    "decrypted_message = cipher.decrypt(encrypted_message).decode()\n",
    "\n",
    "print(\"Decrypted Message:\", decrypted_message)\n",
    "\n",
    "# Load the sender's public key (for signature verification)\n",
    "sender_public_key = RSA.import_key(open('public_key.pem', 'rb').read())\n",
    "\n",
    "# Load the received signature\n",
    "with open('signature.pem', 'rb') as f:\n",
    "    received_signature = f.read()"
   ]
  },
  {
   "cell_type": "code",
   "execution_count": 6,
   "id": "65259a3c",
   "metadata": {},
   "outputs": [
    {
     "name": "stdout",
     "output_type": "stream",
     "text": [
      "Signature is valid. The message is original.\n"
     ]
    }
   ],
   "source": [
    "# Verify the signature\n",
    "hash_received_message = SHA256.new(decrypted_message.encode())\n",
    "\n",
    "try:\n",
    "    pkcs1_15.new(sender_public_key).verify(hash_received_message, received_signature)\n",
    "    print(\"Signature is valid. The message is original.\")\n",
    "except (ValueError, TypeError):\n",
    "    print(\"Signature is invalid. The message may have been tampered with.\")"
   ]
  },
  {
   "cell_type": "code",
   "execution_count": null,
   "id": "c7c567d8",
   "metadata": {},
   "outputs": [],
   "source": []
  }
 ],
 "metadata": {
  "kernelspec": {
   "display_name": "Python 3 (ipykernel)",
   "language": "python",
   "name": "python3"
  },
  "language_info": {
   "codemirror_mode": {
    "name": "ipython",
    "version": 3
   },
   "file_extension": ".py",
   "mimetype": "text/x-python",
   "name": "python",
   "nbconvert_exporter": "python",
   "pygments_lexer": "ipython3",
   "version": "3.9.7"
  }
 },
 "nbformat": 4,
 "nbformat_minor": 5
}
